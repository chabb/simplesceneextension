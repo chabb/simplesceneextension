{
 "cells": [
  {
   "cell_type": "code",
   "execution_count": 4,
   "metadata": {},
   "outputs": [
    {
     "name": "stdout",
     "output_type": "stream",
     "text": [
      "les bisous\n"
     ]
    },
    {
     "data": {
      "application/vnd.mp.v1+json": {
       "contents": [
        {
         "clickable": true,
         "contents": [
          {
           "clickable": true,
           "color": "#f9dc3c",
           "id": "--atoms--0",
           "positions": [
            [
             5.2,
             4.2,
             0
            ],
            [
             0,
             4.2,
             4.2
            ],
            [
             0,
             4.2,
             0
            ],
            [
             4.2,
             0,
             4.2
            ],
            [
             4.2,
             4.2,
             4.2
            ],
            [
             0,
             0,
             0
            ],
            [
             0,
             0,
             4.2
            ],
            [
             7.2,
             0,
             0
            ]
           ],
           "radius": 0.5,
           "tooltip": "label",
           "type": "spheres"
          },
          {
           "clickable": true,
           "color": "#4444ff",
           "id": "--atoms--1",
           "positions": [
            [
             2.1,
             2.1,
             2.1
            ]
           ],
           "radius": 0.5,
           "tooltip": "label",
           "type": "spheres"
          }
         ],
         "id": "--atoms",
         "name": "atoms",
         "origin": [
          -2.1,
          -2.1,
          -2.1
         ],
         "visible": true
        },
        {
         "contents": [
          {
           "clickable": true,
           "color": "#f9dc3c",
           "id": "--bonds--0",
           "positionPairs": [
            [
             [
              4.2,
              4.2,
              0
             ],
             [
              3.1500000000000004,
              3.1500000000000004,
              1.05
             ]
            ],
            [
             [
              0,
              4.2,
              4.2
             ],
             [
              1.05,
              3.1500000000000004,
              3.1500000000000004
             ]
            ],
            [
             [
              0,
              4.2,
              0
             ],
             [
              1.05,
              3.1500000000000004,
              1.05
             ]
            ],
            [
             [
              4.2,
              0,
              4.2
             ],
             [
              3.1500000000000004,
              1.05,
              3.1500000000000004
             ]
            ],
            [
             [
              4.2,
              4.2,
              4.2
             ],
             [
              3.1500000000000004,
              3.1500000000000004,
              3.1500000000000004
             ]
            ],
            [
             [
              0,
              0,
              0
             ],
             [
              1.05,
              1.05,
              1.05
             ]
            ],
            [
             [
              0,
              0,
              4.2
             ],
             [
              1.05,
              1.05,
              3.1500000000000004
             ]
            ],
            [
             [
              4.2,
              0,
              0
             ],
             [
              3.1500000000000004,
              1.05,
              1.05
             ]
            ]
           ],
           "radius": 0.1,
           "tooltip": "label",
           "type": "cylinders"
          },
          {
           "clickable": true,
           "color": "#a121f6",
           "id": "--bonds--1",
           "positionPairs": [
            [
             [
              2.1,
              2.1,
              2.1
             ],
             [
              1.05,
              1.05,
              1.05
             ]
            ],
            [
             [
              2.1,
              2.1,
              2.1
             ],
             [
              3.1500000000000004,
              1.05,
              1.05
             ]
            ],
            [
             [
              2.1,
              2.1,
              2.1
             ],
             [
              3.1500000000000004,
              3.1500000000000004,
              3.1500000000000004
             ]
            ],
            [
             [
              2.1,
              2.1,
              2.1
             ],
             [
              3.1500000000000004,
              1.05,
              3.1500000000000004
             ]
            ],
            [
             [
              2.1,
              2.1,
              2.1
             ],
             [
              1.05,
              3.1500000000000004,
              1.05
             ]
            ],
            [
             [
              2.1,
              2.1,
              2.1
             ],
             [
              3.1500000000000004,
              3.1500000000000004,
              1.05
             ]
            ],
            [
             [
              2.1,
              2.1,
              2.1
             ],
             [
              1.05,
              1.05,
              3.1500000000000004
             ]
            ],
            [
             [
              2.1,
              2.1,
              2.1
             ],
             [
              1.05,
              3.1500000000000004,
              3.1500000000000004
             ]
            ]
           ],
           "radius": 0.1,
           "tooltip": "label",
           "type": "cylinders"
          }
         ],
         "id": "--bonds",
         "name": "bonds",
         "origin": [
          -2.1,
          -2.1,
          -2.1
         ],
         "visible": true
        },
        {
         "contents": [
          {
           "color": "#ababaa",
           "id": "--cubes--0",
           "positions": [
            [
             4,
             4,
             4
            ],
            [
             10,
             10,
             10
            ]
           ],
           "tooltip": "label",
           "type": "cubes",
           "width": 2
          }
         ],
         "id": "--cubes",
         "name": "cubes"
        },
        {
         "contents": [
          {
           "color": "#a121f6",
           "id": "--polyhedra--0",
           "positions": [
            [
             2.1,
             2.1,
             2.1
            ],
            [
             0,
             0,
             0
            ],
            [
             4.2,
             0,
             0
            ],
            [
             4.2,
             4.2,
             4.2
            ],
            [
             4.2,
             0,
             4.2
            ],
            [
             0,
             4.2,
             0
            ],
            [
             4.2,
             4.2,
             0
            ],
            [
             0,
             0,
             4.2
            ],
            [
             0,
             4.2,
             4.2
            ]
           ],
           "type": "convex"
          }
         ],
         "id": "--polyhedra",
         "name": "polyhedra",
         "origin": [
          -2.1,
          -2.1,
          -2.1
         ],
         "tooltip": "label",
         "visible": true
        },
        {
         "contents": [
          {
           "contents": [
            {
             "id": "--unit_cell--a=4.2, b=4.2, c=4.2, alpha=90.0, beta=90.0, gamma=90.0--0",
             "positions": [
              [
               0,
               0,
               0
              ],
              [
               4.2,
               0,
               0
              ],
              [
               0,
               0,
               0
              ],
              [
               0,
               4.2,
               0
              ],
              [
               0,
               0,
               0
              ],
              [
               0,
               0,
               4.2
              ],
              [
               4.2,
               0,
               0
              ],
              [
               4.2,
               4.2,
               0
              ],
              [
               4.2,
               0,
               0
              ],
              [
               4.2,
               0,
               4.2
              ],
              [
               0,
               4.2,
               0
              ],
              [
               4.2,
               4.2,
               0
              ],
              [
               0,
               4.2,
               0
              ],
              [
               0,
               4.2,
               4.2
              ],
              [
               0,
               0,
               4.2
              ],
              [
               4.2,
               0,
               4.2
              ],
              [
               0,
               0,
               4.2
              ],
              [
               0,
               4.2,
               4.2
              ],
              [
               4.2,
               4.2,
               0
              ],
              [
               4.2,
               4.2,
               4.2
              ],
              [
               4.2,
               0,
               4.2
              ],
              [
               4.2,
               4.2,
               4.2
              ],
              [
               0,
               4.2,
               4.2
              ],
              [
               4.2,
               4.2,
               4.2
              ]
             ],
             "type": "lines"
            }
           ],
           "id": "--unit_cell--a=4.2, b=4.2, c=4.2, alpha=90.0, beta=90.0, gamma=90.0",
           "name": "a=4.2, b=4.2, c=4.2, alpha=90.0, beta=90.0, gamma=90.0",
           "visible": false
          }
         ],
         "id": "--unit_cell",
         "name": "unit_cell",
         "origin": [
          -2.1,
          -2.1,
          -2.1
         ],
         "visible": false
        },
        {
         "contents": [
          {
           "clickable": false,
           "color": "red",
           "headLength": 0.24,
           "headWidth": 0.14,
           "id": "--axes--0",
           "positionPairs": [
            [
             [
              -2.1,
              -2.1,
              -2.1
             ],
             [
              -1.4,
              -1.4,
              -3.1
             ]
            ]
           ],
           "radius": 0.07,
           "type": "arrows"
          },
          {
           "clickable": false,
           "color": "green",
           "headLength": 0.24,
           "headWidth": 0.14,
           "id": "--axes--1",
           "positionPairs": [
            [
             [
              -2.1,
              -2.1,
              -2.1
             ],
             [
              -0.1,
              -2.5,
              -1.1
             ]
            ]
           ],
           "radius": 0.07,
           "type": "arrows"
          },
          {
           "clickable": false,
           "color": "blue",
           "headLength": 0.24,
           "headWidth": 0.14,
           "id": "--axes--2",
           "positionPairs": [
            [
             [
              -2.1,
              -2.1,
              -2.1
             ],
             [
              -1.1,
              -1.1,
              -1.1
             ]
            ]
           ],
           "radius": 0.07,
           "type": "arrows"
          },
          {
           "clickable": false,
           "color": "black",
           "id": "--axes--3",
           "positions": [
            [
             -2.1,
             -2.1,
             -2.1
            ]
           ],
           "radius": 0.0175,
           "type": "spheres"
          }
         ],
         "id": "--axes",
         "name": "axes",
         "visible": false
        }
       ],
       "name": "_ct_StructureMoleculeComponent_1",
       "origin": [
        -2.1,
        -2.1,
        -2.1
       ],
       "visible": true
      }
     },
     "metadata": {},
     "output_type": "display_data"
    }
   ],
   "source": [
    "from IPython.display import publish_display_data\n",
    "\n",
    "import json\n",
    "\n",
    "with open('./test.scene') as json_file:\n",
    "    deserialized_json = json.load(json_file)\n",
    "    publish_display_data(data= { 'application/vnd.mp.v1+json': deserialized_json })"
   ]
  },
  {
   "cell_type": "code",
   "execution_count": null,
   "metadata": {},
   "outputs": [],
   "source": []
  },
  {
   "cell_type": "code",
   "execution_count": null,
   "metadata": {},
   "outputs": [],
   "source": []
  },
  {
   "cell_type": "code",
   "execution_count": null,
   "metadata": {},
   "outputs": [],
   "source": []
  }
 ],
 "metadata": {
  "kernelspec": {
   "display_name": "Python 3",
   "language": "python",
   "name": "python3"
  },
  "language_info": {
   "codemirror_mode": {
    "name": "ipython",
    "version": 3
   },
   "file_extension": ".py",
   "mimetype": "text/x-python",
   "name": "python",
   "nbconvert_exporter": "python",
   "pygments_lexer": "ipython3",
   "version": "3.7.4"
  }
 },
 "nbformat": 4,
 "nbformat_minor": 4
}
